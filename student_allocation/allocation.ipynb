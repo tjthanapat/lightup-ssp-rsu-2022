{
 "cells": [
  {
   "cell_type": "code",
   "execution_count": 1,
   "metadata": {},
   "outputs": [],
   "source": [
    "import json"
   ]
  },
  {
   "cell_type": "markdown",
   "metadata": {},
   "source": [
    "# Booth"
   ]
  },
  {
   "cell_type": "code",
   "execution_count": 43,
   "metadata": {},
   "outputs": [],
   "source": [
    "class Booth:\n",
    "  def __init__(self, id:str, name:str, num_round:int=4, closed_rounds:list=None):\n",
    "    self.__id = id\n",
    "    self.__name = name\n",
    "    self.__num_round = num_round\n",
    "    self.__closed_rounds = list()\n",
    "    self.__rounds = dict()\n",
    "    for i in range(self.__num_round):\n",
    "      self.__rounds[i] = 0\n",
    "\n",
    "  def get_info(self):\n",
    "    return { \n",
    "      'id':self.__id, \n",
    "      'name':self.__name,\n",
    "      'num_round':self.__num_round,\n",
    "      'closed_rounds':self.__closed_rounds,\n",
    "    }\n",
    "\n",
    "  def close_rounds(self, rounds:list):\n",
    "    for round in rounds:\n",
    "      if (0 < round <= self.__num_round):\n",
    "        self.__closed_rounds.append(round - 1)\n",
    "      else:\n",
    "        raise Exception('One of closed rounds is out of range.')\n",
    "    print(f\"Closed round {', '.join([str(round) for round in rounds])}\")\n",
    "\n",
    "  def get_rounds(self):\n",
    "    return self.__rounds\n",
    "\n",
    "  def add_student_to_round(self, round:int):\n",
    "    self.__rounds[round] += 1 \n",
    "\n",
    "  def cal_round_weights(self, ordered:bool=False):\n",
    "    round_weights = list()\n",
    "    for round, weight in self.__rounds.items():\n",
    "      if (round in self.__closed_rounds):\n",
    "        round_weight = {'round':round, 'weight':weight + 1000}\n",
    "      else:\n",
    "        round_weight = {'round':round, 'weight':weight}\n",
    "      round_weights.append(round_weight)\n",
    "    if (ordered):\n",
    "      round_weights = sorted(round_weights, key=lambda round: round['weight'])\n",
    "    return round_weights\n",
    "  \n",
    "  def cal_booth_weight(self, round_weights:list=None):\n",
    "    round_weights = round_weights if round_weights is not None \\\n",
    "                    else self.cal_round_weights()\n",
    "    round_weights = [round_weight['weight'] for round_weight\n",
    "                       in round_weights]\n",
    "    return max(round_weights) - min(round_weights)\n"
   ]
  },
  {
   "cell_type": "code",
   "execution_count": 28,
   "metadata": {},
   "outputs": [],
   "source": [
    "with open('booths.json', mode='r', encoding='utf-8') as file:\n",
    "  booths_data = json.load(file)"
   ]
  },
  {
   "cell_type": "code",
   "execution_count": 44,
   "metadata": {},
   "outputs": [
    {
     "name": "stdout",
     "output_type": "stream",
     "text": [
      "Generating booth G0101...\n",
      "Generating booth G0102...\n",
      "Generating booth G0103...\n",
      "Generating booth G0104...\n",
      "Generating booth G0105...\n",
      "Generating booth G0106...\n",
      "Generating booth G0107...\n",
      "Generating booth G0108...\n",
      "Generating booth G0109...\n",
      "Generating booth G0110...\n",
      "Generating booth G0111...\n",
      "Generating booth G0201...\n",
      "Generating booth G0202...\n",
      "Generating booth G0203...\n",
      "Generating booth G0204...\n",
      "Generating booth G0205...\n",
      "Generating booth G0301...\n",
      "Generating booth G0302...\n",
      "Generating booth G0303...\n",
      "Generating booth G0401...\n",
      "Generating booth G0402...\n",
      "Generating booth G0403...\n",
      "Generating booth G0404...\n",
      "Generating booth G0405...\n",
      "Generating booth G0406...\n",
      "Generating booth G0501...\n",
      "Generating booth G0502...\n",
      "Generating booth G0503...\n",
      "Generating booth G0504...\n",
      "Generating booth G0601...\n",
      "Generating booth G0602...\n"
     ]
    }
   ],
   "source": [
    "Booths = dict()\n",
    "\n",
    "for booth_group in booths_data:\n",
    "  for booth in booth_group['booths']:\n",
    "    print(f\"Generating booth {booth['id']}...\")\n",
    "    Booths[booth['id']] = Booth(id=booth['id'], name=booth['name'])"
   ]
  },
  {
   "cell_type": "markdown",
   "metadata": {},
   "source": [
    "## Close some booth rounds"
   ]
  },
  {
   "cell_type": "code",
   "execution_count": 5,
   "metadata": {},
   "outputs": [],
   "source": [
    "with open('registrations.json', mode='r', encoding='utf-8') as file:\n",
    "  students = json.load(file)"
   ]
  },
  {
   "cell_type": "code",
   "execution_count": 19,
   "metadata": {},
   "outputs": [],
   "source": [
    "def filter_students(students:list, booths:set, intersection:int=1):\n",
    "  filtered_students = list()\n",
    "  for student in students:\n",
    "    intersection_booths = set(booths).intersection(set(student['selectedBooths']))\n",
    "    if (len(intersection_booths) >= intersection):\n",
    "      filtered_students.append(student)\n",
    "  return filtered_students"
   ]
  },
  {
   "cell_type": "code",
   "execution_count": 22,
   "metadata": {},
   "outputs": [],
   "source": [
    "fixed_round_booths = [\n",
    "  \"G0104\", # พยาบาลศาสตร์\n",
    "  \"G0109\", # ทัศนมาตรศาสตร์\n",
    "  \"G0204\", # นวัตกรรมการเกษตร\n",
    "  \"G0404\", # นวัตกรรมศาสตร์\n",
    "  \"G0602\", # นานาชาติจีน\n",
    "]"
   ]
  },
  {
   "cell_type": "code",
   "execution_count": 23,
   "metadata": {},
   "outputs": [],
   "source": [
    "fixed_round_students = filter_students(students, \n",
    "                                       booths=fixed_round_booths,\n",
    "                                       intersection=2)"
   ]
  },
  {
   "cell_type": "code",
   "execution_count": 24,
   "metadata": {},
   "outputs": [
    {
     "name": "stdout",
     "output_type": "stream",
     "text": [
      "{'G0602', 'G0404'}\n",
      "{'G0109', 'G0104'}\n",
      "{'G0109', 'G0204'}\n",
      "{'G0109', 'G0104'}\n"
     ]
    }
   ],
   "source": [
    "for student in fixed_round_students:\n",
    "  intersection_booths = set(fixed_round_booths) \\\n",
    "    .intersection(set(student['selectedBooths']))\n",
    "  print(intersection_booths)\n"
   ]
  },
  {
   "cell_type": "markdown",
   "metadata": {},
   "source": [
    "  \"G0104\", # พยาบาลศาสตร์ = Open only round 2\n",
    "\n",
    "  \"G0109\", # ทัศนมาตรศาสตร์ = Open only round 1\n",
    "\n",
    "  \"G0204\", # นวัตกรรมการเกษตร = Open only round 2\n",
    "\n",
    "  \"G0404\", # นวัตกรรมศาสตร์ = Open only round 1\n",
    "  \n",
    "  \"G0602\", # นานาชาติจีน = Open only round 2"
   ]
  },
  {
   "cell_type": "code",
   "execution_count": 45,
   "metadata": {},
   "outputs": [
    {
     "name": "stdout",
     "output_type": "stream",
     "text": [
      "Closed round 1, 3, 4\n",
      "Closed round 2, 3, 4\n",
      "Closed round 1, 3, 4\n",
      "Closed round 2, 3, 4\n",
      "Closed round 1, 3, 4\n"
     ]
    }
   ],
   "source": [
    "Booths[\"G0104\"].close_rounds([1,3,4])\n",
    "Booths[\"G0109\"].close_rounds([2,3,4])\n",
    "Booths[\"G0204\"].close_rounds([1,3,4])\n",
    "Booths[\"G0404\"].close_rounds([2,3,4])\n",
    "Booths[\"G0602\"].close_rounds([1,3,4])"
   ]
  },
  {
   "cell_type": "code",
   "execution_count": 46,
   "metadata": {},
   "outputs": [
    {
     "data": {
      "text/plain": [
       "{'id': 'G0602',\n",
       " 'name': 'นานาชาติจีน',\n",
       " 'num_round': 4,\n",
       " 'closed_rounds': [0, 2, 3]}"
      ]
     },
     "execution_count": 46,
     "metadata": {},
     "output_type": "execute_result"
    }
   ],
   "source": [
    "Booths[\"G0602\"].get_info()"
   ]
  },
  {
   "cell_type": "markdown",
   "metadata": {},
   "source": [
    "# Student Allocation"
   ]
  },
  {
   "cell_type": "code",
   "execution_count": 47,
   "metadata": {},
   "outputs": [],
   "source": [
    "def allocate_student(student:dict):\n",
    "  selected_booths = [{'id':booth} for booth in student['selectedBooths']]\n",
    "  for i in range(len(selected_booths)):\n",
    "    booth_id = selected_booths[i]['id']\n",
    "    round_weights = Booths[booth_id].cal_round_weights(ordered=True)\n",
    "    booth_weight = Booths[booth_id].cal_booth_weight(round_weights)\n",
    "    selected_booths[i]['booth_weight'] = booth_weight\n",
    "    selected_booths[i]['round_weights'] = round_weights\n",
    "  selected_booths = sorted(selected_booths,\n",
    "                           key=lambda booth:booth['booth_weight'], \n",
    "                           reverse=True)\n",
    "  allocation = [None for _ in range(4)]\n",
    "  for booth in selected_booths:\n",
    "    booth_id = booth['id']\n",
    "    for round in booth['round_weights']:\n",
    "      if (allocation[round['round']] is None):\n",
    "        allocation[round['round']] = booth_id\n",
    "        Booths[booth_id].add_student_to_round(round['round'])\n",
    "        break\n",
    "  return allocation"
   ]
  },
  {
   "cell_type": "code",
   "execution_count": 48,
   "metadata": {},
   "outputs": [],
   "source": [
    "allocated_students = list()\n",
    "\n",
    "for student in students:\n",
    "  allocated_booths = allocate_student(student)\n",
    "  allocated_student = dict()\n",
    "  allocated_student['id'] =  student['id']\n",
    "  allocated_student['title'] =  student['title']\n",
    "  allocated_student['firstName'] =  student['firstName']\n",
    "  allocated_student['lastName'] =  student['lastName']\n",
    "  allocated_student['classroom'] =  student['classroom']\n",
    "  allocated_student['roll'] =  student['roll']\n",
    "  allocated_student['allocated_booths'] =  allocated_booths\n",
    "  allocated_students.append(allocated_student)"
   ]
  },
  {
   "cell_type": "code",
   "execution_count": 49,
   "metadata": {},
   "outputs": [
    {
     "name": "stdout",
     "output_type": "stream",
     "text": [
      "แพทยศาสตร์\n",
      "[{'round': 0, 'weight': 17}, {'round': 1, 'weight': 18}, {'round': 2, 'weight': 20}, {'round': 3, 'weight': 19}]\n",
      "ทันตแพทยศาสตร์\n",
      "[{'round': 0, 'weight': 11}, {'round': 1, 'weight': 11}, {'round': 2, 'weight': 13}, {'round': 3, 'weight': 11}]\n",
      "เภสัชศาสตร์\n",
      "[{'round': 0, 'weight': 13}, {'round': 1, 'weight': 11}, {'round': 2, 'weight': 14}, {'round': 3, 'weight': 14}]\n",
      "พยาบาลศาสตร์\n",
      "[{'round': 0, 'weight': 1000}, {'round': 1, 'weight': 17}, {'round': 2, 'weight': 1000}, {'round': 3, 'weight': 1000}]\n",
      "รังสีเทคนิค\n",
      "[{'round': 0, 'weight': 8}, {'round': 1, 'weight': 7}, {'round': 2, 'weight': 10}, {'round': 3, 'weight': 8}]\n",
      "เทคนิคการแพทย์\n",
      "[{'round': 0, 'weight': 18}, {'round': 1, 'weight': 17}, {'round': 2, 'weight': 20}, {'round': 3, 'weight': 19}]\n",
      "กายภาพบำบัดและเวชศาสตร์การกีฬา\n",
      "[{'round': 0, 'weight': 11}, {'round': 1, 'weight': 10}, {'round': 2, 'weight': 11}, {'round': 3, 'weight': 13}]\n",
      "การแพทย์แผนตะวันออก\n",
      "[{'round': 0, 'weight': 0}, {'round': 1, 'weight': 0}, {'round': 2, 'weight': 1}, {'round': 3, 'weight': 2}]\n",
      "ทัศนมาตรศาสตร์\n",
      "[{'round': 0, 'weight': 18}, {'round': 1, 'weight': 1000}, {'round': 2, 'weight': 1000}, {'round': 3, 'weight': 1000}]\n",
      "วิทยาศาสตร์\n",
      "[{'round': 0, 'weight': 10}, {'round': 1, 'weight': 9}, {'round': 2, 'weight': 11}, {'round': 3, 'weight': 10}]\n",
      "วิศวกรรมชีวการแพทย์\n",
      "[{'round': 0, 'weight': 7}, {'round': 1, 'weight': 7}, {'round': 2, 'weight': 10}, {'round': 3, 'weight': 9}]\n",
      "วิศวกรรมศาสตร์\n",
      "[{'round': 0, 'weight': 29}, {'round': 1, 'weight': 29}, {'round': 2, 'weight': 30}, {'round': 3, 'weight': 31}]\n",
      "นวัตกรรมดิจิทัลเทคโนโลยี\n",
      "[{'round': 0, 'weight': 22}, {'round': 1, 'weight': 22}, {'round': 2, 'weight': 23}, {'round': 3, 'weight': 24}]\n",
      "สถาบันการบิน\n",
      "[{'round': 0, 'weight': 15}, {'round': 1, 'weight': 12}, {'round': 2, 'weight': 16}, {'round': 3, 'weight': 15}]\n",
      "นวัตกรรมการเกษตร\n",
      "[{'round': 0, 'weight': 1000}, {'round': 1, 'weight': 16}, {'round': 2, 'weight': 1000}, {'round': 3, 'weight': 1000}]\n",
      "เทคโนโลยีอาหาร\n",
      "[{'round': 0, 'weight': 12}, {'round': 1, 'weight': 11}, {'round': 2, 'weight': 14}, {'round': 3, 'weight': 15}]\n",
      "สถาปัตยกรรมศาสตร์\n",
      "[{'round': 0, 'weight': 12}, {'round': 1, 'weight': 11}, {'round': 2, 'weight': 12}, {'round': 3, 'weight': 13}]\n",
      "การออกแบบ\n",
      "[{'round': 0, 'weight': 20}, {'round': 1, 'weight': 20}, {'round': 2, 'weight': 24}, {'round': 3, 'weight': 22}]\n",
      "ดิจิทัลอาร์ต\n",
      "[{'round': 0, 'weight': 28}, {'round': 1, 'weight': 29}, {'round': 2, 'weight': 30}, {'round': 3, 'weight': 30}]\n",
      "นิเทศศาสตร์\n",
      "[{'round': 0, 'weight': 50}, {'round': 1, 'weight': 48}, {'round': 2, 'weight': 52}, {'round': 3, 'weight': 50}]\n",
      "ศิลปศาสตร์\n",
      "[{'round': 0, 'weight': 30}, {'round': 1, 'weight': 29}, {'round': 2, 'weight': 32}, {'round': 3, 'weight': 32}]\n",
      "นิติศาสตร์\n",
      "[{'round': 0, 'weight': 9}, {'round': 1, 'weight': 10}, {'round': 2, 'weight': 11}, {'round': 3, 'weight': 11}]\n",
      "นวัตกรรมศาสตร์\n",
      "[{'round': 0, 'weight': 18}, {'round': 1, 'weight': 1000}, {'round': 2, 'weight': 1000}, {'round': 3, 'weight': 1000}]\n",
      "รัฐศาสตร์\n",
      "[{'round': 0, 'weight': 8}, {'round': 1, 'weight': 6}, {'round': 2, 'weight': 8}, {'round': 3, 'weight': 7}]\n",
      "อาชญาวิทยาและการบริหารงานยุติธรรม\n",
      "[{'round': 0, 'weight': 26}, {'round': 1, 'weight': 26}, {'round': 2, 'weight': 26}, {'round': 3, 'weight': 28}]\n",
      "บริหารธุรกิจ\n",
      "[{'round': 0, 'weight': 41}, {'round': 1, 'weight': 40}, {'round': 2, 'weight': 42}, {'round': 3, 'weight': 41}]\n",
      "การท่องเที่ยว การบริการและกีฬา\n",
      "[{'round': 0, 'weight': 18}, {'round': 1, 'weight': 17}, {'round': 2, 'weight': 18}, {'round': 3, 'weight': 20}]\n",
      "บัญชี \n",
      "[{'round': 0, 'weight': 17}, {'round': 1, 'weight': 17}, {'round': 2, 'weight': 17}, {'round': 3, 'weight': 20}]\n",
      "เศรษฐศาสตร์\n",
      "[{'round': 0, 'weight': 13}, {'round': 1, 'weight': 13}, {'round': 2, 'weight': 14}, {'round': 3, 'weight': 15}]\n",
      "นานาชาติ\n",
      "[{'round': 0, 'weight': 9}, {'round': 1, 'weight': 8}, {'round': 2, 'weight': 11}, {'round': 3, 'weight': 11}]\n",
      "นานาชาติจีน\n",
      "[{'round': 0, 'weight': 1000}, {'round': 1, 'weight': 19}, {'round': 2, 'weight': 1000}, {'round': 3, 'weight': 1000}]\n"
     ]
    }
   ],
   "source": [
    "for booth in Booths:\n",
    "  print(Booths[booth].get_info()['name'])\n",
    "  print(Booths[booth].cal_round_weights())"
   ]
  },
  {
   "cell_type": "code",
   "execution_count": 50,
   "metadata": {},
   "outputs": [],
   "source": [
    "import json\n",
    "\n",
    "with open('allocated_students.json', mode='w', encoding='utf-8') as file:\n",
    "  json.dump(allocated_students, file, indent=2)"
   ]
  }
 ],
 "metadata": {
  "kernelspec": {
   "display_name": "Python 3.9.7 ('base')",
   "language": "python",
   "name": "python3"
  },
  "language_info": {
   "codemirror_mode": {
    "name": "ipython",
    "version": 3
   },
   "file_extension": ".py",
   "mimetype": "text/x-python",
   "name": "python",
   "nbconvert_exporter": "python",
   "pygments_lexer": "ipython3",
   "version": "3.9.7"
  },
  "orig_nbformat": 4,
  "vscode": {
   "interpreter": {
    "hash": "2fe7d652243bcdb6cde2e69617dc664bf14361ea2de14b139d2fec55ec2ae7e2"
   }
  }
 },
 "nbformat": 4,
 "nbformat_minor": 2
}
